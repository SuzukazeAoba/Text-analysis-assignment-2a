{
 "cells": [
  {
   "cell_type": "markdown",
   "metadata": {},
   "source": [
    "# Import packages"
   ]
  },
  {
   "cell_type": "code",
   "execution_count": 1,
   "metadata": {},
   "outputs": [],
   "source": [
    "from sklearn.feature_extraction.text import TfidfVectorizer\n",
    "import nltk\n",
    "import matplotlib.pyplot as plt\n",
    "from nltk import cluster\n",
    "from nltk.cluster import cosine_distance"
   ]
  },
  {
   "cell_type": "code",
   "execution_count": 2,
   "metadata": {},
   "outputs": [
    {
     "name": "stderr",
     "output_type": "stream",
     "text": [
      "[nltk_data] Downloading package stopwords to /Users/admin/nltk_data...\n",
      "[nltk_data]   Package stopwords is already up-to-date!\n",
      "[nltk_data] Downloading package wordnet to /Users/admin/nltk_data...\n",
      "[nltk_data]   Package wordnet is already up-to-date!\n",
      "[nltk_data] Downloading package reuters to /Users/admin/nltk_data...\n",
      "[nltk_data]   Package reuters is already up-to-date!\n",
      "[nltk_data] Downloading package punkt to /Users/admin/nltk_data...\n",
      "[nltk_data]   Package punkt is already up-to-date!\n"
     ]
    },
    {
     "data": {
      "text/plain": [
       "True"
      ]
     },
     "execution_count": 2,
     "metadata": {},
     "output_type": "execute_result"
    }
   ],
   "source": [
    "nltk.download(\"stopwords\")\n",
    "nltk.download(\"wordnet\")\n",
    "nltk.download(\"reuters\")\n",
    "nltk.download(\"punkt\")"
   ]
  },
  {
   "cell_type": "markdown",
   "metadata": {},
   "source": [
    "# Obtain data set"
   ]
  },
  {
   "cell_type": "code",
   "execution_count": 3,
   "metadata": {},
   "outputs": [
    {
     "name": "stdout",
     "output_type": "stream",
     "text": [
      "Number of documents: 100\n"
     ]
    }
   ],
   "source": [
    "from nltk.corpus import reuters as corpus\n",
    "\n",
    "num_of_documents = 100\n",
    "docs = [corpus.words(fileid) for fileid in corpus.fileids()[:num_of_documents]]\n",
    "\n",
    "print(\"Number of documents:\", len(docs))"
   ]
  },
  {
   "cell_type": "markdown",
   "metadata": {},
   "source": [
    "# Preprocessing"
   ]
  },
  {
   "cell_type": "code",
   "execution_count": 4,
   "metadata": {},
   "outputs": [],
   "source": [
    "en_stop = nltk.corpus.stopwords.words('english')\n",
    "en_stop= [\"``\",\"/\",\",.\",\".,\",\";\",\"--\",\":\",\")\",\"(\",'\"','&',\"'\",'),',',\"','-','.,','.,\"','.-',\"?\",\">\",\"<\"]                  \\\n",
    "         +[\"0\",\"1\",\"2\",\"3\",\"4\",\"5\",\"6\",\"7\",\"8\",\"9\",\"10\",\"11\",\"12\",\"86\",\"1986\",\"1987\",\"000\"]                                                      \\\n",
    "         +[\"said\",\"say\",\"u\",\"v\",\"mln\",\"ct\",\"net\",\"dlrs\",\"tonne\",\"pct\",\"shr\",\"nil\",\"company\",\"lt\",\"share\",\"year\",\"billion\",\"price\"]          \\\n",
    "         +en_stop"
   ]
  },
  {
   "cell_type": "code",
   "execution_count": 5,
   "metadata": {},
   "outputs": [],
   "source": [
    "from nltk.corpus import wordnet as wn\n",
    "\n",
    "def preprocess_word(word, stopwordset):\n",
    "    \n",
    "    word=word.lower()\n",
    "    \n",
    "    if word in [\",\",\".\"]:\n",
    "        return None\n",
    "    \n",
    "    if word in stopwordset:\n",
    "        return None\n",
    "    \n",
    "    lemma = wn.morphy(word)\n",
    "    if lemma is None:\n",
    "        return word\n",
    "\n",
    "    elif lemma in stopwordset: \n",
    "        return None\n",
    "    else:\n",
    "        return lemma\n",
    "    \n",
    "\n",
    "def preprocess_document(document):\n",
    "    document=[preprocess_word(w, en_stop) for w in document]\n",
    "    document=[w for w in document if w is not None]\n",
    "    return document\n",
    "\n",
    "def preprocess_documents(documents):\n",
    "    return [preprocess_document(document) for document in documents]"
   ]
  },
  {
   "cell_type": "code",
   "execution_count": 6,
   "metadata": {
    "scrolled": true
   },
   "outputs": [
    {
     "name": "stdout",
     "output_type": "stream",
     "text": [
      "Before preprocessing:\n",
      "['ASIAN', 'EXPORTERS', 'FEAR', 'DAMAGE', 'FROM', 'U', '.', 'S', '.-', 'JAPAN', 'RIFT', 'Mounting', 'trade', 'friction', 'between', 'the', 'U', '.', 'S', '.', 'And', 'Japan', 'has', 'raised', 'fears']\n",
      "After preprocessing:\n",
      "['asian', 'exporter', 'fear', 'damage', 'japan', 'rift', 'mounting', 'trade', 'friction', 'japan', 'raise', 'fear', 'among', 'many', 'asia', 'exporting', 'nation', 'row', 'could', 'inflict', 'far', 'reaching', 'economic', 'damage', 'businessmen']\n"
     ]
    }
   ],
   "source": [
    "pre_docs = preprocess_documents(docs)\n",
    "\n",
    "print(\"Before preprocessing:\")\n",
    "print(docs[0][:25])\n",
    "print(\"After preprocessing:\")\n",
    "print(pre_docs[0][:25])"
   ]
  },
  {
   "cell_type": "markdown",
   "metadata": {},
   "source": [
    "# Clustering "
   ]
  },
  {
   "cell_type": "code",
   "execution_count": 7,
   "metadata": {},
   "outputs": [
    {
     "name": "stdout",
     "output_type": "stream",
     "text": [
      "asianexporterfeardamagejapanriftmountingtradefrictionjapanraisefearamongmanyasiaexportingnationrowcouldinflictfarreachingeconomicdamagebusinessmenofficialtellreutercorrespondentasiancapitalmovejapanmightboostprotectionistsentimentleadcurbamericanimportproductexporterconflictwouldhurtlongrunshorttermtokyolossmightgainimpose300tariffimportjapaneseelectronicsgoodapril17retaliationjapanallegefailurestickpactsellsemiconductorworldmarketcostunofficialjapaneseestimateputimpacttariffspokesmanmajorelectronicsfirmwouldvirtuallyhaltexportproducthitnewtaxablebusinessspokesmanleadingjapaneseelectronicsfirmmatsushitaelectricindustrialcoltdmc>.tariffremainplacelengthtimebeyondmonthmeancompleteerosionexportgoodsubjecttarifftommurthastockanalysttokyoofficebrokerjamescapelco>.taiwanbusinessmenofficialalsoworryawareseriousnessthreatjapanservewarningusseniortaiwanesetradeofficialasknametaiwantradetradesurplus15last95surplushelpswelltaiwanforeignexchangereserves53amongworldlargemustquicklyopenmarketremovetradebarriercutimporttariffallowimportproductwantdefuseproblempossibleretaliationpaulsheenchairmantextileexportertaiwansafegroup>.seniorofficialsouthkoreatradepromotionassociationtradedisputejapanmightalsoleadpressuresouthkoreawhosechiefexportsimilarjapanlastsouthkoreatradesurplus1985malaysiatradeofficerbusinessmentoughcurbjapanmightallowhardhitproducersemiconductorthirdcountryexpandsaleshongkongnewspaperallegejapansellingcostsemiconductorelectronicsmanufacturerviewbusinessmenshorttermcommercialadvantagewouldoutweighpressureblockimportshorttermviewlawrencemillsdirectorgeneralfederationhongkongindustrywholepurposepreventimportonedayextendsourcemuchserioushongkongdisadvantageactionrestraintradelasthongkongbigexportmarketaccounting30domesticallyproduceexportaustraliangovernmentawaitoutcometradetalksjapaninterestconcernindustryministerjohnbuttoncanberralastfridaykinddeteriorationtraderelationstwocountrymajortradingpartnerseriousmatterbuttonaustraliaconcerncentrecoalbeefaustraliatwolargeexportjapanalsosignificantexportcountrymeanwhilejapanesediplomaticmanoeuvresolvetradestandcontinuejapanrulingliberaldemocraticpartyyesterdayoutlinepackageeconomicmeasureboostjapaneseeconomymeasureproposeincludelargesupplementarybudgetrecordpublicworksspendingfirsthalffinancialalsocallstepspendingemergencymeasurestimulateeconomydespiteprimeministeryasuhironakasoneavowfiscalreformprogramdeputytraderepresentativemichaelsmithmakotokurodajapandeputyministerinternationaltradeindustrymitiduemeetwashingtonweekeffortenddispute\n"
     ]
    }
   ],
   "source": [
    "pre_docs_for_tfidf = [\"\".join(doc) for doc in pre_docs]\n",
    "print(pre_docs_for_tfidf[0])\n",
    "\n",
    "vectorizer = TfidfVectorizer(max_features = 200, token_pattern = u'(?u)\\\\b\\\\w+\\\\b')"
   ]
  },
  {
   "cell_type": "code",
   "execution_count": 8,
   "metadata": {},
   "outputs": [],
   "source": [
    "tf_idf = vectorizer.fit_transform(pre_docs_for_tfidf)"
   ]
  },
  {
   "cell_type": "markdown",
   "metadata": {},
   "source": [
    "## k = 3"
   ]
  },
  {
   "cell_type": "code",
   "execution_count": 9,
   "metadata": {},
   "outputs": [],
   "source": [
    "num_clusters = 3"
   ]
  },
  {
   "cell_type": "code",
   "execution_count": 10,
   "metadata": {},
   "outputs": [
    {
     "data": {
      "text/plain": [
       "array([0, 0, 0, 0, 0, 0, 0, 0, 0, 0, 0, 0, 0, 0, 2, 0, 0, 0, 0, 0, 0, 0,\n",
       "       0, 0, 0, 0, 0, 1, 0, 0, 0, 0, 0, 0, 0, 0, 0, 0, 0, 0, 0, 0, 1, 0,\n",
       "       0, 0, 0, 0, 0, 0, 0, 0, 0, 0, 0, 0, 0, 0, 0, 0, 0, 0, 0, 0, 0, 0,\n",
       "       0, 0, 0, 0, 0, 0, 0, 0, 0, 0, 0, 0, 0, 0, 0, 0, 0, 0, 0, 0, 0, 0,\n",
       "       0, 0, 0, 0, 0, 0, 0, 0, 0, 0, 0, 0], dtype=int32)"
      ]
     },
     "execution_count": 10,
     "metadata": {},
     "output_type": "execute_result"
    }
   ],
   "source": [
    "from sklearn.cluster import KMeans\n",
    "km = KMeans(n_clusters = num_clusters, random_state = 0)\n",
    "clusters = km.fit_predict(tf_idf)\n",
    "clusters"
   ]
  },
  {
   "cell_type": "code",
   "execution_count": 11,
   "metadata": {},
   "outputs": [
    {
     "name": "stdout",
     "output_type": "stream",
     "text": [
      "Distortion is: 96.37257016395905\n"
     ]
    }
   ],
   "source": [
    "print(\"Distortion is:\", km.inertia_)"
   ]
  },
  {
   "cell_type": "code",
   "execution_count": 12,
   "metadata": {},
   "outputs": [
    {
     "name": "stdout",
     "output_type": "stream",
     "text": [
      "0 asian\n",
      "0 exporter\n",
      "0 fear\n",
      "0 damage\n",
      "0 japan\n",
      "0 rift\n",
      "0 mounting\n",
      "0 trade\n",
      "0 friction\n",
      "0 japan\n",
      "0 raise\n",
      "0 fear\n",
      "0 among\n",
      "0 many\n",
      "2 asia\n",
      "0 exporting\n",
      "0 nation\n",
      "0 row\n",
      "0 could\n",
      "0 inflict\n",
      "0 far\n",
      "0 reaching\n",
      "0 economic\n",
      "0 damage\n",
      "0 businessmen\n",
      "0 official\n",
      "0 tell\n",
      "1 reuter\n",
      "0 correspondent\n",
      "0 asian\n",
      "0 capital\n",
      "0 move\n",
      "0 japan\n",
      "0 might\n",
      "0 boost\n",
      "0 protectionist\n",
      "0 sentiment\n",
      "0 lead\n",
      "0 curb\n",
      "0 american\n",
      "0 import\n",
      "0 product\n",
      "1 exporter\n",
      "0 conflict\n",
      "0 would\n",
      "0 hurt\n",
      "0 long\n",
      "0 run\n",
      "0 short\n",
      "0 term\n",
      "0 tokyo\n",
      "0 loss\n",
      "0 might\n",
      "0 gain\n",
      "0 impose\n",
      "0 300\n",
      "0 tariff\n",
      "0 import\n",
      "0 japanese\n",
      "0 electronics\n",
      "0 good\n",
      "0 april\n",
      "0 17\n",
      "0 retaliation\n",
      "0 japan\n",
      "0 allege\n",
      "0 failure\n",
      "0 stick\n",
      "0 pact\n",
      "0 sell\n",
      "0 semiconductor\n",
      "0 world\n",
      "0 market\n",
      "0 cost\n",
      "0 unofficial\n",
      "0 japanese\n",
      "0 estimate\n",
      "0 put\n",
      "0 impact\n",
      "0 tariff\n",
      "0 spokesman\n",
      "0 major\n",
      "0 electronics\n",
      "0 firm\n",
      "0 would\n",
      "0 virtually\n",
      "0 halt\n",
      "0 export\n",
      "0 product\n",
      "0 hit\n",
      "0 new\n",
      "0 tax\n",
      "0 able\n",
      "0 business\n",
      "0 spokesman\n",
      "0 leading\n",
      "0 japanese\n",
      "0 electronics\n",
      "0 firm\n",
      "0 matsushita\n"
     ]
    }
   ],
   "source": [
    "for doc, cls in zip(pre_docs[0], clusters):\n",
    "    print(cls, doc)"
   ]
  },
  {
   "cell_type": "markdown",
   "metadata": {},
   "source": [
    "## k = 5"
   ]
  },
  {
   "cell_type": "code",
   "execution_count": 13,
   "metadata": {},
   "outputs": [
    {
     "name": "stdout",
     "output_type": "stream",
     "text": [
      "0 asian\n",
      "0 exporter\n",
      "0 fear\n",
      "0 damage\n",
      "0 japan\n",
      "0 rift\n",
      "0 mounting\n",
      "0 trade\n",
      "0 friction\n",
      "0 japan\n",
      "0 raise\n",
      "0 fear\n",
      "0 among\n",
      "3 many\n",
      "2 asia\n",
      "0 exporting\n",
      "0 nation\n",
      "0 row\n",
      "0 could\n",
      "0 inflict\n",
      "0 far\n",
      "0 reaching\n",
      "0 economic\n",
      "0 damage\n",
      "0 businessmen\n",
      "0 official\n",
      "0 tell\n",
      "1 reuter\n",
      "0 correspondent\n",
      "0 asian\n",
      "0 capital\n",
      "0 move\n",
      "0 japan\n",
      "0 might\n",
      "0 boost\n",
      "0 protectionist\n",
      "0 sentiment\n",
      "0 lead\n",
      "0 curb\n",
      "4 american\n",
      "0 import\n",
      "0 product\n",
      "1 exporter\n",
      "0 conflict\n",
      "0 would\n",
      "0 hurt\n",
      "0 long\n",
      "0 run\n",
      "0 short\n",
      "0 term\n",
      "0 tokyo\n",
      "0 loss\n",
      "0 might\n",
      "0 gain\n",
      "0 impose\n",
      "0 300\n",
      "0 tariff\n",
      "0 import\n",
      "0 japanese\n",
      "0 electronics\n",
      "0 good\n",
      "0 april\n",
      "0 17\n",
      "0 retaliation\n",
      "0 japan\n",
      "0 allege\n",
      "0 failure\n",
      "0 stick\n",
      "0 pact\n",
      "0 sell\n",
      "0 semiconductor\n",
      "0 world\n",
      "0 market\n",
      "0 cost\n",
      "0 unofficial\n",
      "0 japanese\n",
      "0 estimate\n",
      "0 put\n",
      "0 impact\n",
      "0 tariff\n",
      "0 spokesman\n",
      "0 major\n",
      "0 electronics\n",
      "0 firm\n",
      "0 would\n",
      "0 virtually\n",
      "0 halt\n",
      "0 export\n",
      "0 product\n",
      "0 hit\n",
      "0 new\n",
      "0 tax\n",
      "0 able\n",
      "0 business\n",
      "0 spokesman\n",
      "0 leading\n",
      "0 japanese\n",
      "0 electronics\n",
      "0 firm\n",
      "0 matsushita\n",
      "Distortion is: 94.37257016395904\n"
     ]
    }
   ],
   "source": [
    "num_clusters = 5\n",
    "\n",
    "km = KMeans(n_clusters = num_clusters, random_state = 0)\n",
    "clusters = km.fit_predict(tf_idf)\n",
    "clusters\n",
    "\n",
    "for doc, cls in zip(pre_docs[0], clusters):\n",
    "    print(cls, doc)\n",
    "\n",
    "print(\"Distortion is:\", km.inertia_)"
   ]
  },
  {
   "cell_type": "markdown",
   "metadata": {},
   "source": [
    "## k = 10"
   ]
  },
  {
   "cell_type": "code",
   "execution_count": 14,
   "metadata": {},
   "outputs": [
    {
     "name": "stdout",
     "output_type": "stream",
     "text": [
      "0 asian\n",
      "0 exporter\n",
      "0 fear\n",
      "0 damage\n",
      "0 japan\n",
      "0 rift\n",
      "0 mounting\n",
      "0 trade\n",
      "0 friction\n",
      "0 japan\n",
      "0 raise\n",
      "0 fear\n",
      "0 among\n",
      "0 many\n",
      "0 asia\n",
      "0 exporting\n",
      "0 nation\n",
      "0 row\n",
      "0 could\n",
      "0 inflict\n",
      "0 far\n",
      "0 reaching\n",
      "0 economic\n",
      "3 damage\n",
      "0 businessmen\n",
      "0 official\n",
      "0 tell\n",
      "9 reuter\n",
      "0 correspondent\n",
      "0 asian\n",
      "0 capital\n",
      "0 move\n",
      "0 japan\n",
      "5 might\n",
      "0 boost\n",
      "0 protectionist\n",
      "0 sentiment\n",
      "0 lead\n",
      "0 curb\n",
      "0 american\n",
      "0 import\n",
      "0 product\n",
      "9 exporter\n",
      "0 conflict\n",
      "0 would\n",
      "0 hurt\n",
      "0 long\n",
      "0 run\n",
      "0 short\n",
      "0 term\n",
      "0 tokyo\n",
      "0 loss\n",
      "0 might\n",
      "8 gain\n",
      "0 impose\n",
      "0 300\n",
      "0 tariff\n",
      "0 import\n",
      "0 japanese\n",
      "0 electronics\n",
      "0 good\n",
      "0 april\n",
      "0 17\n",
      "0 retaliation\n",
      "0 japan\n",
      "0 allege\n",
      "0 failure\n",
      "1 stick\n",
      "0 pact\n",
      "0 sell\n",
      "7 semiconductor\n",
      "0 world\n",
      "6 market\n",
      "0 cost\n",
      "4 unofficial\n",
      "0 japanese\n",
      "0 estimate\n",
      "0 put\n",
      "0 impact\n",
      "0 tariff\n",
      "0 spokesman\n",
      "0 major\n",
      "0 electronics\n",
      "0 firm\n",
      "0 would\n",
      "0 virtually\n",
      "0 halt\n",
      "0 export\n",
      "0 product\n",
      "0 hit\n",
      "0 new\n",
      "0 tax\n",
      "0 able\n",
      "0 business\n",
      "0 spokesman\n",
      "0 leading\n",
      "0 japanese\n",
      "0 electronics\n",
      "2 firm\n",
      "0 matsushita\n",
      "Distortion is: 89.37257016395928\n"
     ]
    }
   ],
   "source": [
    "num_clusters = 10\n",
    "\n",
    "km = KMeans(n_clusters = num_clusters, random_state = 0)\n",
    "clusters = km.fit_predict(tf_idf)\n",
    "clusters\n",
    "\n",
    "for doc, cls in zip(pre_docs[0], clusters):\n",
    "    print(cls, doc)\n",
    "\n",
    "print(\"Distortion is:\", km.inertia_)"
   ]
  },
  {
   "cell_type": "markdown",
   "metadata": {},
   "source": [
    "## The elbow method"
   ]
  },
  {
   "cell_type": "code",
   "execution_count": 15,
   "metadata": {},
   "outputs": [
    {
     "data": {
      "image/png": "[encoded data removed]",
      "text/plain": [
       "<Figure size 432x288 with 1 Axes>"
      ]
     },
     "metadata": {
      "needs_background": "light"
     },
     "output_type": "display_data"
    }
   ],
   "source": [
    "distortions = []\n",
    "for i in range(1, 11):\n",
    "    km = KMeans(n_clusters = i, random_state = 0)\n",
    "    km.fit_predict(tf_idf)\n",
    "    distortions.append(km.inertia_)\n",
    "\n",
    "# plot\n",
    "plt.plot(range(1, 11), distortions, marker='o')\n",
    "plt.xlabel('Number of clusters')\n",
    "plt.ylabel('Distortion')\n",
    "plt.show()"
   ]
  }
 ],
 "metadata": {
  "kernelspec": {
   "display_name": "Python 3",
   "language": "python",
   "name": "python3"
  },
  "language_info": {
   "codemirror_mode": {
    "name": "ipython",
    "version": 3
   },
   "file_extension": ".py",
   "mimetype": "text/x-python",
   "name": "python",
   "nbconvert_exporter": "python",
   "pygments_lexer": "ipython3",
   "version": "3.7.6"
  }
 },
 "nbformat": 4,
 "nbformat_minor": 4
}
